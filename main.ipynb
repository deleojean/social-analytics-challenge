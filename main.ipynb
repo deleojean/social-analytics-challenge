{
 "cells": [
  {
   "cell_type": "markdown",
   "metadata": {},
   "source": [
    "# News Mood"
   ]
  },
  {
   "cell_type": "code",
   "execution_count": 2,
   "metadata": {},
   "outputs": [],
   "source": [
    "# Dependencies\n",
    "import tweepy\n",
    "import json\n",
    "import time\n",
    "import pandas            as pd\n",
    "import matplotlib.pyplot as plt\n",
    "import seaborn           as sns \n",
    "import numpy             as np\n",
    "from config import consumer_key, consumer_secret, access_token, access_token_secret"
   ]
  },
  {
   "cell_type": "code",
   "execution_count": 3,
   "metadata": {},
   "outputs": [],
   "source": [
    "# Import and Initialize Sentiment Analyzer\n",
    "from vaderSentiment.vaderSentiment import SentimentIntensityAnalyzer\n",
    "analyzer = SentimentIntensityAnalyzer()"
   ]
  },
  {
   "cell_type": "code",
   "execution_count": 4,
   "metadata": {},
   "outputs": [],
   "source": [
    "# Twitter API Keys\n",
    "consumer_key        = consumer_key\n",
    "consumer_secret     = consumer_secret\n",
    "access_token        = access_token\n",
    "access_token_secret = access_token_secret"
   ]
  },
  {
   "cell_type": "code",
   "execution_count": 5,
   "metadata": {},
   "outputs": [],
   "source": [
    "# Setup Tweepy API Authentication\n",
    "auth = tweepy.OAuthHandler(consumer_key, consumer_secret)\n",
    "auth.set_access_token(access_token, access_token_secret)\n",
    "api  = tweepy.API(auth, parser=tweepy.parsers.JSONParser())"
   ]
  },
  {
   "cell_type": "code",
   "execution_count": 6,
   "metadata": {},
   "outputs": [
    {
     "data": {
      "text/html": [
       "<div>\n",
       "<style>\n",
       "    .dataframe thead tr:only-child th {\n",
       "        text-align: right;\n",
       "    }\n",
       "\n",
       "    .dataframe thead th {\n",
       "        text-align: left;\n",
       "    }\n",
       "\n",
       "    .dataframe tbody tr th {\n",
       "        vertical-align: top;\n",
       "    }\n",
       "</style>\n",
       "<table border=\"1\" class=\"dataframe\">\n",
       "  <thead>\n",
       "    <tr style=\"text-align: right;\">\n",
       "      <th></th>\n",
       "      <th>Media</th>\n",
       "      <th>Tweet Index</th>\n",
       "      <th>TimeStamp</th>\n",
       "      <th>Compound</th>\n",
       "      <th>Positive</th>\n",
       "      <th>Neutral</th>\n",
       "      <th>Negative</th>\n",
       "    </tr>\n",
       "  </thead>\n",
       "  <tbody>\n",
       "  </tbody>\n",
       "</table>\n",
       "</div>"
      ],
      "text/plain": [
       "Empty DataFrame\n",
       "Columns: [Media, Tweet Index, TimeStamp, Compound, Positive, Neutral, Negative]\n",
       "Index: []"
      ]
     },
     "execution_count": 6,
     "metadata": {},
     "output_type": "execute_result"
    }
   ],
   "source": [
    "columns = ['Media', 'Tweet Index', 'TimeStamp', 'Compound', 'Positive', 'Neutral', 'Negative']\n",
    "\n",
    "media_analysis_df = pd.DataFrame(columns=columns)\n",
    "media_analysis_df.head()"
   ]
  },
  {
   "cell_type": "markdown",
   "metadata": {},
   "source": [
    "## API Call to Twitter"
   ]
  },
  {
   "cell_type": "code",
   "execution_count": 7,
   "metadata": {},
   "outputs": [],
   "source": [
    "def parse_tweets(media, public_tweets):\n",
    "    count = media_analysis_df.shape[0]\n",
    "    \n",
    "    # Loop through all tweets\n",
    "    for index, tweet in enumerate(public_tweets):\n",
    "        media_analysis_df.set_value(count, 'Media',       media)\n",
    "        media_analysis_df.set_value(count, 'Tweet Index', index)\n",
    "        media_analysis_df.set_value(count, 'TimeStamp',   tweet['created_at'])\n",
    "        \n",
    "        # Run Vader Analysis on each tweet\n",
    "        compound = analyzer.polarity_scores(tweet[\"text\"])[\"compound\"]\n",
    "        pos      = analyzer.polarity_scores(tweet[\"text\"])[\"pos\"]\n",
    "        neu      = analyzer.polarity_scores(tweet[\"text\"])[\"neu\"]\n",
    "        neg      = analyzer.polarity_scores(tweet[\"text\"])[\"neg\"]\n",
    "\n",
    "        # Add each value to the appropriate array\n",
    "        media_analysis_df.set_value(count, 'Compound', compound)\n",
    "        media_analysis_df.set_value(count, 'Positive', pos)\n",
    "        media_analysis_df.set_value(count, 'Neutral' , neu)\n",
    "        media_analysis_df.set_value(count, 'Negative', neg)\n",
    "        \n",
    "        count += 1"
   ]
  },
  {
   "cell_type": "code",
   "execution_count": 8,
   "metadata": {},
   "outputs": [],
   "source": [
    "# Target Search Term\n",
    "tweet_limit   = 100\n",
    "media_handles = {'BBC':            '@BBC',\n",
    "                 'CBS':            '@CBS',\n",
    "                 'CNN':            '@CNN',\n",
    "                 'Fox':            '@FoxNews',\n",
    "                 'New York Times': '@nytimes'}\n",
    "\n",
    "for media, handle in media_handles.items():\n",
    "    \n",
    "    public_tweets = api.search(handle, count=tweet_limit, result_type='recent')\n",
    "    parse_tweets(media, public_tweets['statuses'])"
   ]
  },
  {
   "cell_type": "code",
   "execution_count": 9,
   "metadata": {},
   "outputs": [
    {
     "data": {
      "text/plain": [
       "Fox               100\n",
       "BBC               100\n",
       "CNN               100\n",
       "New York Times    100\n",
       "CBS               100\n",
       "Name: Media, dtype: int64"
      ]
     },
     "execution_count": 9,
     "metadata": {},
     "output_type": "execute_result"
    }
   ],
   "source": [
    "# media_analysis_df.to_csv('media_analysis.csv', index=False)\n",
    "date = time.strftime(\"%m/%d/%Y\")\n",
    "\n",
    "if True:\n",
    "    media_analysis_df = pd.read_csv('media_analysis.csv')\n",
    "    date              = '04/08/2018'\n",
    "    \n",
    "media_analysis_df['Media'].value_counts()"
   ]
  },
  {
   "cell_type": "code",
   "execution_count": null,
   "metadata": {},
   "outputs": [],
   "source": []
  }
 ],
 "metadata": {
  "kernelspec": {
   "display_name": "Python 3",
   "language": "python",
   "name": "python3"
  },
  "language_info": {
   "codemirror_mode": {
    "name": "ipython",
    "version": 3
   },
   "file_extension": ".py",
   "mimetype": "text/x-python",
   "name": "python",
   "nbconvert_exporter": "python",
   "pygments_lexer": "ipython3",
   "version": "3.6.3"
  }
 },
 "nbformat": 4,
 "nbformat_minor": 2
}
